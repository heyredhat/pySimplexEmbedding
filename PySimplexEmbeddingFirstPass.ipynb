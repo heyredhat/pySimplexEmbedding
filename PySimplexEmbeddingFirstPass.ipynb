{
 "cells": [
  {
   "cell_type": "code",
   "execution_count": 163,
   "metadata": {},
   "outputs": [],
   "source": [
    "import numpy as np\n",
    "import scipy as sc\n",
    "import sympy as sp\n",
    "np.set_printoptions(precision=3, suppress=True)\n",
    "\n",
    "import cdd\n",
    "import jax\n",
    "import jax.numpy as jp\n",
    "from jax.config import config\n",
    "config.update(\"jax_enable_x64\", True)"
   ]
  },
  {
   "cell_type": "markdown",
   "metadata": {},
   "source": [
    "# Examples"
   ]
  },
  {
   "cell_type": "code",
   "execution_count": 164,
   "metadata": {},
   "outputs": [],
   "source": [
    "# Example 1\n",
    "\n",
    "states = np.array([[1,0,1],\\\n",
    "                   [1,0,-1],\\\n",
    "                   [1,1,0],\\\n",
    "                   [1,-1,0]]).T/2\n",
    "effects = np.array([[1,0,1],\n",
    "                    [1,0,-1],\\\n",
    "                    [1,1,0],\\\n",
    "                    [1,-1,0]]).T/2\n",
    "unit_effect = np.array([1,0,0])\n",
    "maximally_mixed_state = np.array([1/2,0,0])"
   ]
  },
  {
   "cell_type": "code",
   "execution_count": 106,
   "metadata": {},
   "outputs": [],
   "source": [
    "# Example 2\n",
    "\n",
    "states = np.array([[1,0,0,0],\\\n",
    "                   [0,1,0,0],\\\n",
    "                   [0,0,1,0],\\\n",
    "                   [0,0,0,1]])\n",
    "effects = np.array([[1,1,0,0],\n",
    "                    [0,1,1,0],\\\n",
    "                    [0,0,1,1],\\\n",
    "                    [1,0,0,1]])\n",
    "unit_effect = np.array([1,1,1,1])\n",
    "maximally_mixed_state = np.mean(states,axis=1)"
   ]
  },
  {
   "cell_type": "code",
   "execution_count": 156,
   "metadata": {},
   "outputs": [],
   "source": [
    "# Boxworld\n",
    "\n",
    "states = np.array([[1,1,0],\\\n",
    "                   [1,0,1],\\\n",
    "                   [1,-1,0],\\\n",
    "                   [1,0,-1]]).T\n",
    "effects = np.array([[1,-1,-1],\\\n",
    "                    [1,1,-1],\\\n",
    "                    [1,1,1],\\\n",
    "                    [1,-1,1]]).T/2\n",
    "unit_effect = np.array([1,0,0])\n",
    "maximally_mixed_state = np.array([1,0,0])"
   ]
  },
  {
   "cell_type": "markdown",
   "metadata": {},
   "source": [
    "# DiscoverEmbedding"
   ]
  },
  {
   "cell_type": "code",
   "execution_count": 157,
   "metadata": {},
   "outputs": [],
   "source": [
    "def convex_hull_rays(M):\n",
    "    C = cdd.Matrix(M)\n",
    "    C.rep_type = cdd.RepType.INEQUALITY\n",
    "    return np.array(cdd.Polyhedron(C).get_generators())\n",
    "\n",
    "def construct_accessible_fragment(M):\n",
    "    I = np.array(sp.Matrix(M).rref()[0], dtype=float)\n",
    "    I = np.unique(I, axis=0)[::-1]\n",
    "    inclusion_map = I[~np.all(np.isclose(I,0), axis=1)].T\n",
    "    projection_map = np.linalg.pinv(inclusion_map.T)\n",
    "    accessible_fragment = M @ projection_map\n",
    "    return projection_map, inclusion_map, accessible_fragment"
   ]
  },
  {
   "cell_type": "code",
   "execution_count": 158,
   "metadata": {},
   "outputs": [
    {
     "name": "stdout",
     "output_type": "stream",
     "text": [
      "Stage 1: Constructing an accessible GPT fragment.\n",
      "\n",
      "Proj_Ω: \n",
      "[[1. 0. 0.]\n",
      " [0. 1. 0.]\n",
      " [0. 0. 1.]]\n",
      "\n",
      "Proj_ξ: \n",
      "[[1. 0. 0.]\n",
      " [0. 1. 0.]\n",
      " [0. 0. 1.]]\n",
      "\n",
      "Inc_Ω: \n",
      "[[1. 0. 0.]\n",
      " [0. 1. 0.]\n",
      " [0. 0. 1.]]\n",
      "\n",
      "Inc_ξ: \n",
      "[[1. 0. 0.]\n",
      " [0. 1. 0.]\n",
      " [0. 0. 1.]]\n",
      "\n",
      "V_Ω^A: \n",
      "[[ 1.  1.  0.]\n",
      " [ 1.  0.  1.]\n",
      " [ 1. -1.  0.]\n",
      " [ 1.  0. -1.]]\n",
      "\n",
      "V_ξ^A: \n",
      "[[ 0.5 -0.5 -0.5]\n",
      " [ 0.5  0.5 -0.5]\n",
      " [ 0.5  0.5  0.5]\n",
      " [ 0.5 -0.5  0.5]]\n",
      "\n",
      "|u_a>: \n",
      "[1. 0. 0.]\n",
      "\n",
      "DepolarizingMap: \n",
      "[[1 0 0]\n",
      " [0 0 0]\n",
      " [0 0 0]]\n"
     ]
    }
   ],
   "source": [
    "print(\"Stage 1: Constructing an accessible GPT fragment.\\n\")\n",
    "\n",
    "P_states, I_states, A_states = construct_accessible_fragment(states.T)\n",
    "P_effects, I_effects, A_effects = construct_accessible_fragment(effects.T)\n",
    "A_unit_effect = P_effects.T @ unit_effect\n",
    "depolarizing_map = np.outer(unit_effect, maximally_mixed_state)\n",
    "\n",
    "print(\"Proj_Ω: \\n%s\\n\" % P_states)\n",
    "print(\"Proj_ξ: \\n%s\\n\" % P_effects)\n",
    "print(\"Inc_Ω: \\n%s\\n\" % I_states)\n",
    "print(\"Inc_ξ: \\n%s\\n\" % I_effects)\n",
    "print(\"V_Ω^A: \\n%s\\n\" % A_states)\n",
    "print(\"V_ξ^A: \\n%s\\n\" % A_effects)\n",
    "print(\"|u_a>: \\n%s\\n\" % A_unit_effect)\n",
    "print(\"DepolarizingMap: \\n%s\" % depolarizing_map)"
   ]
  },
  {
   "cell_type": "code",
   "execution_count": 159,
   "metadata": {},
   "outputs": [
    {
     "name": "stdout",
     "output_type": "stream",
     "text": [
      "Stage 2: Finding the facets of the GPT state and effect hypercones.\n",
      "\n",
      "H_Ω: \n",
      "[[ 1.  1. -1.]\n",
      " [ 1.  1.  1.]\n",
      " [ 1. -1.  1.]\n",
      " [ 1. -1. -1.]]\n",
      "\n",
      "H_ξ: \n",
      "[[ 1.  0.  1.]\n",
      " [ 1.  1.  0.]\n",
      " [ 1.  0. -1.]\n",
      " [ 1. -1.  0.]]\n"
     ]
    }
   ],
   "source": [
    "print(\"Stage 2: Finding the facets of the GPT state and effect hypercones.\\n\")\n",
    "\n",
    "H_states = convex_hull_rays(A_states)\n",
    "H_effects = convex_hull_rays(A_effects)\n",
    "\n",
    "print(\"H_Ω: \\n%s\\n\" % H_states)\n",
    "print(\"H_ξ: \\n%s\" % H_effects)"
   ]
  },
  {
   "cell_type": "code",
   "execution_count": 160,
   "metadata": {},
   "outputs": [
    {
     "name": "stdout",
     "output_type": "stream",
     "text": [
      "Stage 3: Finding the Robustness of Nonembeddability to Depolarizing Noise.\n",
      "\n",
      "σ: \n",
      "[[-0.     0.125  0.125 -0.   ]\n",
      " [ 0.125  0.125 -0.    -0.   ]\n",
      " [ 0.125 -0.    -0.     0.125]\n",
      " [-0.     0.     0.125  0.125]]\n",
      "\n",
      "r: \n",
      "0.5\n",
      "\n",
      "B_embeddable^A: \n",
      "[[1.  0.  0. ]\n",
      " [0.  0.5 0. ]\n",
      " [0.  0.  0.5]]\n",
      "\n"
     ]
    }
   ],
   "source": [
    "print(\"Stage 3: Finding the Robustness of Nonembeddability to Depolarizing Noise.\\n\")\n",
    "\n",
    "n = H_states.shape[0]\n",
    "V = np.random.randn(n**2 + 1)\n",
    "\n",
    "@jax.jit\n",
    "def linear_program(V):\n",
    "    r = V[0]\n",
    "    sigma = V[1:].reshape(n,n)\n",
    "    return jp.linalg.norm(r*(I_effects.T @ depolarizing_map @ I_states) + (1-r)*(I_effects.T @ I_states) - \\\n",
    "                              H_effects.T @ sigma @ H_states) + r\n",
    "\n",
    "@jax.jit\n",
    "def positivity(V):\n",
    "    return V\n",
    "\n",
    "result = sc.optimize.minimize(linear_program, V, jac=jax.jit(jax.jacrev(linear_program)),\\\n",
    "                                  constraints=[{\"type\": \"ineq\",\\\n",
    "                                                \"fun\": positivity,\\\n",
    "                                                \"jac\": jax.jit(jax.jacrev(positivity))}],\\\n",
    "                                  method=\"SLSQP\")\n",
    "r = result.x[0]\n",
    "sigma = result.x[1:].reshape(n,n)\n",
    "\n",
    "print(\"σ: \\n%s\\n\" % sigma)\n",
    "print(\"r: \\n%s\" % np.round(r, 3))\n",
    "\n",
    "if not np.isclose(r, 0):\n",
    "    B = r*(I_effects.T @ depolarizing_map @ I_states) + (1-r)*(I_effects.T @ I_states)\n",
    "    print(\"\\nB_embeddable^A: \\n%s\\n\" % B)"
   ]
  },
  {
   "cell_type": "code",
   "execution_count": 161,
   "metadata": {},
   "outputs": [
    {
     "name": "stdout",
     "output_type": "stream",
     "text": [
      "Stage 4: Constructing a Simplex Embedding from a Simplicial-Cone Embedding.\n",
      "\n",
      "τ_Ω^A: \n",
      "[[ 0.25  0.25 -0.25]\n",
      " [ 0.25  0.25  0.25]\n",
      " [ 0.25 -0.25  0.25]\n",
      " [ 0.25 -0.25 -0.25]]\n",
      "\n",
      "τ_ξ^A: \n",
      "[[ 1.   0.5 -0.5]\n",
      " [ 1.   0.5  0.5]\n",
      " [ 1.  -0.5  0.5]\n",
      " [ 1.  -0.5 -0.5]]\n",
      "\n",
      "DepolarizedNCModel_Ω: \n",
      "[[0.5 0.  0.  0.5]\n",
      " [0.5 0.5 0.  0. ]\n",
      " [0.  0.5 0.5 0. ]\n",
      " [0.  0.  0.5 0.5]]\n",
      "\n",
      "DepolarizedNCModel_ξ: \n",
      "[[ 0.5  1.   0.5 -0. ]\n",
      " [ 0.   0.5  1.   0.5]\n",
      " [ 0.5 -0.   0.5  1. ]\n",
      " [ 1.   0.5 -0.   0.5]]\n"
     ]
    }
   ],
   "source": [
    "print(\"Stage 4: Constructing a Simplex Embedding from a Simplicial-Cone Embedding.\\n\")\n",
    "\n",
    "simplicial_cone_embedding_states = H_states\n",
    "simplicial_cone_embedding_effects = sigma.T @ H_effects\n",
    "\n",
    "simplex_embedding_states = \\\n",
    "    np.array([simplicial_cone_embedding_states[i]*(simplicial_cone_embedding_effects[i] @ A_unit_effect)\\\n",
    "         for i in range(len(simplicial_cone_embedding_states))])\n",
    "\n",
    "simplex_embedding_effects = \\\n",
    "    np.array([simplicial_cone_embedding_effects[i]/(simplicial_cone_embedding_effects[i] @ A_unit_effect)\\\n",
    "         for i in range(len(simplicial_cone_embedding_effects))\\\n",
    "              if simplicial_cone_embedding_effects[i] @ A_unit_effect > 0])\n",
    "\n",
    "print(\"τ_Ω^A: \\n%s\\n\" % simplex_embedding_states)\n",
    "print(\"τ_ξ^A: \\n%s\\n\" % simplex_embedding_effects)\n",
    "\n",
    "ontic_states = np.array([simplex_embedding_states @ state for state in A_states]).T; ontic_states\n",
    "response_functions = np.array([simplex_embedding_effects @ effect for effect in A_effects]).T; response_functions\n",
    "\n",
    "print(\"DepolarizedNCModel_Ω: \\n%s\\n\" % ontic_states)\n",
    "print(\"DepolarizedNCModel_ξ: \\n%s\" % response_functions)"
   ]
  },
  {
   "cell_type": "code",
   "execution_count": 162,
   "metadata": {},
   "outputs": [
    {
     "name": "stdout",
     "output_type": "stream",
     "text": [
      "Compare:\n",
      "\n",
      "R.T @ O: \n",
      "[[0.25 0.25 0.75 0.75]\n",
      " [0.75 0.25 0.25 0.75]\n",
      " [0.75 0.75 0.25 0.25]\n",
      " [0.25 0.75 0.75 0.25]]\n",
      "\n",
      "E.T @ S: \n",
      "[[0. 0. 1. 1.]\n",
      " [1. 0. 0. 1.]\n",
      " [1. 1. 0. 0.]\n",
      " [0. 1. 1. 0.]]\n",
      "\n"
     ]
    }
   ],
   "source": [
    "print(\"Compare:\\n\")\n",
    "print(\"R.T @ O: \\n%s\\n\" % (response_functions.T @ ontic_states))\n",
    "print(\"E.T @ S: \\n%s\\n\" % (effects.T @ states))"
   ]
  }
 ],
 "metadata": {
  "kernelspec": {
   "display_name": "Python 3",
   "language": "python",
   "name": "python3"
  },
  "language_info": {
   "codemirror_mode": {
    "name": "ipython",
    "version": 3
   },
   "file_extension": ".py",
   "mimetype": "text/x-python",
   "name": "python",
   "nbconvert_exporter": "python",
   "pygments_lexer": "ipython3",
   "version": "3.8.5"
  }
 },
 "nbformat": 4,
 "nbformat_minor": 4
}
